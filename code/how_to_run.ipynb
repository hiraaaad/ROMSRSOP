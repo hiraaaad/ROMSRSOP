{
 "cells": [
  {
   "cell_type": "markdown",
   "source": [
    "This notebook have the instructions how to run this framework"
   ],
   "metadata": {
    "collapsed": false
   }
  },
  {
   "cell_type": "markdown",
   "metadata": {
    "collapsed": true,
    "pycharm": {
     "name": "#%% md\n"
    }
   },
   "source": [
    "RGA and DGA (corresponding folder):\n",
    "Example:\n",
    "python run-rga.py --method RGA --instance 2,2,1 --batch 1\n",
    "where __idx__ refers to the number of observation.\n",
    "\n",
    "Example:\n",
    "python run-dga.py --method DGA --instance 2,2,1"
   ]
  },
  {
   "cell_type": "markdown",
   "source": [
    "MMAS (corresponding folder):\n",
    "Example:\n",
    "python run-mmas.py --method MMAS --n-ants 10 --maxiter 1000 --instance 2,2,1 --ls none --idx 1\n",
    "where __idx__ refers to the number of observation."
   ],
   "metadata": {
    "collapsed": false
   }
  },
  {
   "cell_type": "markdown",
   "source": [],
   "metadata": {
    "collapsed": false
   }
  }
 ],
 "metadata": {
  "kernelspec": {
   "display_name": "Python 3",
   "language": "python",
   "name": "python3"
  },
  "language_info": {
   "codemirror_mode": {
    "name": "ipython",
    "version": 2
   },
   "file_extension": ".py",
   "mimetype": "text/x-python",
   "name": "python",
   "nbconvert_exporter": "python",
   "pygments_lexer": "ipython2",
   "version": "2.7.6"
  }
 },
 "nbformat": 4,
 "nbformat_minor": 0
}